{
  "nbformat": 4,
  "nbformat_minor": 0,
  "metadata": {
    "colab": {
      "provenance": [],
      "authorship_tag": "ABX9TyOynEtMU7g+IyZ57IByuFzR",
      "include_colab_link": true
    },
    "kernelspec": {
      "name": "python3",
      "display_name": "Python 3"
    },
    "language_info": {
      "name": "python"
    }
  },
  "cells": [
    {
      "cell_type": "markdown",
      "metadata": {
        "id": "view-in-github",
        "colab_type": "text"
      },
      "source": [
        "<a href=\"https://colab.research.google.com/github/statlib/learn-skoperules/blob/main/notebooks/skope_rules_tutorial.ipynb\" target=\"_parent\"><img src=\"https://colab.research.google.com/assets/colab-badge.svg\" alt=\"Open In Colab\"/></a>"
      ]
    },
    {
      "cell_type": "code",
      "execution_count": 4,
      "metadata": {
        "id": "y4UQJrW7WR59"
      },
      "outputs": [],
      "source": [
        "!pip install --upgrade sklearn skope-rules six &> /dev/null"
      ]
    },
    {
      "cell_type": "code",
      "source": [
        "import six\n",
        "import sys\n",
        "sys.modules['sklearn.externals.six'] = six"
      ],
      "metadata": {
        "id": "0BxabmxXkUlN"
      },
      "execution_count": 7,
      "outputs": []
    },
    {
      "cell_type": "code",
      "source": [
        "from sklearn.datasets import load_iris\n",
        "from skrules import SkopeRules\n",
        "\n",
        "dataset = load_iris()\n",
        "feature_names = [\n",
        "    'sepal_length', \n",
        "    'sepal_width', \n",
        "    'petal_length', \n",
        "    'petal_width'\n",
        "]\n",
        "\n",
        "clf = SkopeRules(\n",
        "    max_depth_duplication=2,\n",
        "    n_estimators=30,\n",
        "    precision_min=0.3,\n",
        "    recall_min=0.1,\n",
        "    feature_names=feature_names\n",
        ")\n",
        "\n",
        "for idx, species in enumerate(dataset.target_names):\n",
        "    X, y = dataset.data, dataset.target\n",
        "    clf.fit(X, y == idx)\n",
        "    rules = clf.rules_[0:3]\n",
        "    print(\"Rules for iris\", species)\n",
        "    for rule in rules:\n",
        "        print(rule)\n",
        "    print()\n",
        "    print(20 * '=')\n",
        "    print()"
      ],
      "metadata": {
        "colab": {
          "base_uri": "https://localhost:8080/"
        },
        "id": "e6RUwLBai2Oj",
        "outputId": "b8248feb-07de-4d44-882a-e4f5e63737b9"
      },
      "execution_count": 8,
      "outputs": [
        {
          "output_type": "stream",
          "name": "stdout",
          "text": [
            "Rules for iris setosa\n",
            "('petal_width <= 0.800000011920929', (1.0, 1.0, 26))\n",
            "('petal_length <= 2.599999964237213', (1.0, 1.0, 6))\n",
            "\n",
            "====================\n",
            "\n",
            "Rules for iris versicolor\n",
            "('petal_length <= 4.950000047683716 and petal_width <= 1.6500000357627869 and petal_width > 0.800000011920929', (1.0, 0.972953216374269, 2))\n",
            "('petal_length <= 4.75 and petal_length > 2.599999964237213', (0.9722222222222222, 0.8974358974358975, 1))\n",
            "('petal_length <= 4.75 and petal_width > 0.7000000029802322', (1.0, 0.8585526315789473, 2))\n",
            "\n",
            "====================\n",
            "\n",
            "Rules for iris virginica\n",
            "('petal_width > 1.75', (0.9775898717075188, 0.9019488889133932, 6))\n",
            "('petal_length > 4.75 and petal_width > 1.75', (0.972953216374269, 0.9010025062656641, 2))\n",
            "('petal_length > 4.950000047683716', (0.9433811802232854, 0.869579945799458, 2))\n",
            "\n",
            "====================\n",
            "\n"
          ]
        }
      ]
    }
  ]
}