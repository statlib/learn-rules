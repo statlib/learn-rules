{
  "cells": [
    {
      "cell_type": "markdown",
      "metadata": {
        "id": "view-in-github",
        "colab_type": "text"
      },
      "source": [
        "<a href=\"https://colab.research.google.com/github/statlib/learn-rules/blob/main/notebooks/rulefit-tutorial.ipynb\" target=\"_parent\"><img src=\"https://colab.research.google.com/assets/colab-badge.svg\" alt=\"Open In Colab\"/></a>"
      ]
    },
    {
      "cell_type": "markdown",
      "source": [
        "# RuleFit\n",
        "Implementation of a rule based prediction algorithm based on the rulefit algorithm from Friedman and Popescu ([PDF](http://statweb.stanford.edu/~jhf/ftp/RuleFit.pdf)).\n",
        "\n",
        "The algorithm can be used for predicting an output vector y given an input matrix X. In the first step a tree ensemble is generated with gradient boosting. The trees are then used to form rules, where the paths to each node in each tree form one rule. A rule is a binary decision if an observation is in a given node, which is dependent on the input features that were used in the splits. The ensemble of rules together with the original input features are then being input in a L1-regularized linear model, also called Lasso, which estimates the effects of each rule on the output target but at the same time estimating many of those effects to zero.\n",
        "\n",
        "You can use rulefit for predicting a numeric response (categorial not yet implemented). The input has to be a numpy matrix with only numeric values."
      ],
      "metadata": {
        "id": "2i5iPy7oGYcE"
      }
    },
    {
      "cell_type": "code",
      "execution_count": 1,
      "metadata": {
        "id": "lIYdn1woOS1n"
      },
      "outputs": [],
      "source": [
        "!pip install --upgrade rulefit scikit-learn &> /dev/null"
      ]
    },
    {
      "cell_type": "code",
      "source": [
        "import numpy as np\n",
        "import pandas as pd\n",
        "from rulefit import RuleFit\n",
        "\n",
        "boston_data = pd.read_csv(\n",
        "    \"https://raw.githubusercontent.com/christophM/rulefit/master/boston.csv\", \n",
        "    index_col=0\n",
        ")\n",
        "\n",
        "y = boston_data.medv.values\n",
        "_X = boston_data.drop(\"medv\", axis=1)\n",
        "X = _X.values\n",
        "features = _X.columns"
      ],
      "metadata": {
        "id": "tIWMlUT3GN2k"
      },
      "execution_count": 4,
      "outputs": []
    },
    {
      "cell_type": "code",
      "source": [
        "rf = RuleFit()\n",
        "rf.fit(X, y, feature_names=features)"
      ],
      "metadata": {
        "id": "ATylhjq9Ht2i",
        "outputId": "2fe219b2-bc5b-4f39-8eac-81d24131aaa2",
        "colab": {
          "base_uri": "https://localhost:8080/",
          "height": 450
        }
      },
      "execution_count": 5,
      "outputs": [
        {
          "output_type": "stream",
          "name": "stderr",
          "text": [
            "/usr/local/lib/python3.8/dist-packages/sklearn/linear_model/_coordinate_descent.py:634: ConvergenceWarning: Objective did not converge. You might want to increase the number of iterations, check the scale of the features or consider increasing regularisation. Duality gap: 4.067e+00, tolerance: 3.420e+00\n",
            "  model = cd_fast.enet_coordinate_descent(\n",
            "/usr/local/lib/python3.8/dist-packages/sklearn/linear_model/_coordinate_descent.py:634: ConvergenceWarning: Objective did not converge. You might want to increase the number of iterations, check the scale of the features or consider increasing regularisation. Duality gap: 5.139e+00, tolerance: 3.420e+00\n",
            "  model = cd_fast.enet_coordinate_descent(\n",
            "/usr/local/lib/python3.8/dist-packages/sklearn/linear_model/_coordinate_descent.py:634: ConvergenceWarning: Objective did not converge. You might want to increase the number of iterations, check the scale of the features or consider increasing regularisation. Duality gap: 4.678e+00, tolerance: 3.420e+00\n",
            "  model = cd_fast.enet_coordinate_descent(\n",
            "/usr/local/lib/python3.8/dist-packages/sklearn/linear_model/_coordinate_descent.py:634: ConvergenceWarning: Objective did not converge. You might want to increase the number of iterations, check the scale of the features or consider increasing regularisation. Duality gap: 3.798e+00, tolerance: 3.420e+00\n",
            "  model = cd_fast.enet_coordinate_descent(\n",
            "/usr/local/lib/python3.8/dist-packages/sklearn/linear_model/_coordinate_descent.py:634: ConvergenceWarning: Objective did not converge. You might want to increase the number of iterations, check the scale of the features or consider increasing regularisation. Duality gap: 5.070e+00, tolerance: 3.420e+00\n",
            "  model = cd_fast.enet_coordinate_descent(\n",
            "/usr/local/lib/python3.8/dist-packages/sklearn/linear_model/_coordinate_descent.py:634: ConvergenceWarning: Objective did not converge. You might want to increase the number of iterations, check the scale of the features or consider increasing regularisation. Duality gap: 4.197e+00, tolerance: 3.420e+00\n",
            "  model = cd_fast.enet_coordinate_descent(\n",
            "/usr/local/lib/python3.8/dist-packages/sklearn/linear_model/_coordinate_descent.py:634: ConvergenceWarning: Objective did not converge. You might want to increase the number of iterations, check the scale of the features or consider increasing regularisation. Duality gap: 2.986e+00, tolerance: 2.117e+00\n",
            "  model = cd_fast.enet_coordinate_descent(\n",
            "/usr/local/lib/python3.8/dist-packages/sklearn/linear_model/_coordinate_descent.py:634: ConvergenceWarning: Objective did not converge. You might want to increase the number of iterations, check the scale of the features or consider increasing regularisation. Duality gap: 3.293e+00, tolerance: 2.117e+00\n",
            "  model = cd_fast.enet_coordinate_descent(\n",
            "/usr/local/lib/python3.8/dist-packages/sklearn/linear_model/_coordinate_descent.py:634: ConvergenceWarning: Objective did not converge. You might want to increase the number of iterations, check the scale of the features or consider increasing regularisation. Duality gap: 2.481e+00, tolerance: 2.117e+00\n",
            "  model = cd_fast.enet_coordinate_descent(\n"
          ]
        },
        {
          "output_type": "execute_result",
          "data": {
            "text/plain": [
              "RuleFit(tree_generator=GradientBoostingRegressor(learning_rate=0.01,\n",
              "                                                 max_depth=100,\n",
              "                                                 max_leaf_nodes=3,\n",
              "                                                 n_estimators=549,\n",
              "                                                 random_state=548,\n",
              "                                                 subsample=0.46436099318265595))"
            ],
            "text/html": [
              "<style>#sk-container-id-1 {color: black;background-color: white;}#sk-container-id-1 pre{padding: 0;}#sk-container-id-1 div.sk-toggleable {background-color: white;}#sk-container-id-1 label.sk-toggleable__label {cursor: pointer;display: block;width: 100%;margin-bottom: 0;padding: 0.3em;box-sizing: border-box;text-align: center;}#sk-container-id-1 label.sk-toggleable__label-arrow:before {content: \"▸\";float: left;margin-right: 0.25em;color: #696969;}#sk-container-id-1 label.sk-toggleable__label-arrow:hover:before {color: black;}#sk-container-id-1 div.sk-estimator:hover label.sk-toggleable__label-arrow:before {color: black;}#sk-container-id-1 div.sk-toggleable__content {max-height: 0;max-width: 0;overflow: hidden;text-align: left;background-color: #f0f8ff;}#sk-container-id-1 div.sk-toggleable__content pre {margin: 0.2em;color: black;border-radius: 0.25em;background-color: #f0f8ff;}#sk-container-id-1 input.sk-toggleable__control:checked~div.sk-toggleable__content {max-height: 200px;max-width: 100%;overflow: auto;}#sk-container-id-1 input.sk-toggleable__control:checked~label.sk-toggleable__label-arrow:before {content: \"▾\";}#sk-container-id-1 div.sk-estimator input.sk-toggleable__control:checked~label.sk-toggleable__label {background-color: #d4ebff;}#sk-container-id-1 div.sk-label input.sk-toggleable__control:checked~label.sk-toggleable__label {background-color: #d4ebff;}#sk-container-id-1 input.sk-hidden--visually {border: 0;clip: rect(1px 1px 1px 1px);clip: rect(1px, 1px, 1px, 1px);height: 1px;margin: -1px;overflow: hidden;padding: 0;position: absolute;width: 1px;}#sk-container-id-1 div.sk-estimator {font-family: monospace;background-color: #f0f8ff;border: 1px dotted black;border-radius: 0.25em;box-sizing: border-box;margin-bottom: 0.5em;}#sk-container-id-1 div.sk-estimator:hover {background-color: #d4ebff;}#sk-container-id-1 div.sk-parallel-item::after {content: \"\";width: 100%;border-bottom: 1px solid gray;flex-grow: 1;}#sk-container-id-1 div.sk-label:hover label.sk-toggleable__label {background-color: #d4ebff;}#sk-container-id-1 div.sk-serial::before {content: \"\";position: absolute;border-left: 1px solid gray;box-sizing: border-box;top: 0;bottom: 0;left: 50%;z-index: 0;}#sk-container-id-1 div.sk-serial {display: flex;flex-direction: column;align-items: center;background-color: white;padding-right: 0.2em;padding-left: 0.2em;position: relative;}#sk-container-id-1 div.sk-item {position: relative;z-index: 1;}#sk-container-id-1 div.sk-parallel {display: flex;align-items: stretch;justify-content: center;background-color: white;position: relative;}#sk-container-id-1 div.sk-item::before, #sk-container-id-1 div.sk-parallel-item::before {content: \"\";position: absolute;border-left: 1px solid gray;box-sizing: border-box;top: 0;bottom: 0;left: 50%;z-index: -1;}#sk-container-id-1 div.sk-parallel-item {display: flex;flex-direction: column;z-index: 1;position: relative;background-color: white;}#sk-container-id-1 div.sk-parallel-item:first-child::after {align-self: flex-end;width: 50%;}#sk-container-id-1 div.sk-parallel-item:last-child::after {align-self: flex-start;width: 50%;}#sk-container-id-1 div.sk-parallel-item:only-child::after {width: 0;}#sk-container-id-1 div.sk-dashed-wrapped {border: 1px dashed gray;margin: 0 0.4em 0.5em 0.4em;box-sizing: border-box;padding-bottom: 0.4em;background-color: white;}#sk-container-id-1 div.sk-label label {font-family: monospace;font-weight: bold;display: inline-block;line-height: 1.2em;}#sk-container-id-1 div.sk-label-container {text-align: center;}#sk-container-id-1 div.sk-container {/* jupyter's `normalize.less` sets `[hidden] { display: none; }` but bootstrap.min.css set `[hidden] { display: none !important; }` so we also need the `!important` here to be able to override the default hidden behavior on the sphinx rendered scikit-learn.org. See: https://github.com/scikit-learn/scikit-learn/issues/21755 */display: inline-block !important;position: relative;}#sk-container-id-1 div.sk-text-repr-fallback {display: none;}</style><div id=\"sk-container-id-1\" class=\"sk-top-container\"><div class=\"sk-text-repr-fallback\"><pre>RuleFit(tree_generator=GradientBoostingRegressor(learning_rate=0.01,\n",
              "                                                 max_depth=100,\n",
              "                                                 max_leaf_nodes=3,\n",
              "                                                 n_estimators=549,\n",
              "                                                 random_state=548,\n",
              "                                                 subsample=0.46436099318265595))</pre><b>In a Jupyter environment, please rerun this cell to show the HTML representation or trust the notebook. <br />On GitHub, the HTML representation is unable to render, please try loading this page with nbviewer.org.</b></div><div class=\"sk-container\" hidden><div class=\"sk-item sk-dashed-wrapped\"><div class=\"sk-label-container\"><div class=\"sk-label sk-toggleable\"><input class=\"sk-toggleable__control sk-hidden--visually\" id=\"sk-estimator-id-1\" type=\"checkbox\" ><label for=\"sk-estimator-id-1\" class=\"sk-toggleable__label sk-toggleable__label-arrow\">RuleFit</label><div class=\"sk-toggleable__content\"><pre>RuleFit(tree_generator=GradientBoostingRegressor(learning_rate=0.01,\n",
              "                                                 max_depth=100,\n",
              "                                                 max_leaf_nodes=3,\n",
              "                                                 n_estimators=549,\n",
              "                                                 random_state=548,\n",
              "                                                 subsample=0.46436099318265595))</pre></div></div></div><div class=\"sk-parallel\"><div class=\"sk-parallel-item\"><div class=\"sk-item\"><div class=\"sk-label-container\"><div class=\"sk-label sk-toggleable\"><input class=\"sk-toggleable__control sk-hidden--visually\" id=\"sk-estimator-id-2\" type=\"checkbox\" ><label for=\"sk-estimator-id-2\" class=\"sk-toggleable__label sk-toggleable__label-arrow\">tree_generator: GradientBoostingRegressor</label><div class=\"sk-toggleable__content\"><pre>GradientBoostingRegressor(learning_rate=0.01, max_depth=100, max_leaf_nodes=3,\n",
              "                          n_estimators=549, random_state=548,\n",
              "                          subsample=0.46436099318265595)</pre></div></div></div><div class=\"sk-serial\"><div class=\"sk-item\"><div class=\"sk-estimator sk-toggleable\"><input class=\"sk-toggleable__control sk-hidden--visually\" id=\"sk-estimator-id-3\" type=\"checkbox\" ><label for=\"sk-estimator-id-3\" class=\"sk-toggleable__label sk-toggleable__label-arrow\">GradientBoostingRegressor</label><div class=\"sk-toggleable__content\"><pre>GradientBoostingRegressor(learning_rate=0.01, max_depth=100, max_leaf_nodes=3,\n",
              "                          n_estimators=549, random_state=548,\n",
              "                          subsample=0.46436099318265595)</pre></div></div></div></div></div></div></div></div></div></div>"
            ]
          },
          "metadata": {},
          "execution_count": 5
        }
      ]
    },
    {
      "cell_type": "code",
      "source": [
        "from sklearn.ensemble import GradientBoostingRegressor\n",
        "\n",
        "gb = GradientBoostingRegressor(n_estimators=2000, max_depth=20, learning_rate=0.01)\n",
        "rf = RuleFit(tree_generator=gb)\n",
        "rf.fit(X, y, feature_names=features)"
      ],
      "metadata": {
        "id": "OX8Vkp-DGPnz",
        "outputId": "f8e62b93-3555-4921-878d-e18547d32759",
        "colab": {
          "base_uri": "https://localhost:8080/",
          "height": 172
        }
      },
      "execution_count": 6,
      "outputs": [
        {
          "output_type": "stream",
          "name": "stderr",
          "text": [
            "/usr/local/lib/python3.8/dist-packages/sklearn/linear_model/_coordinate_descent.py:634: ConvergenceWarning: Objective did not converge. You might want to increase the number of iterations, check the scale of the features or consider increasing regularisation. Duality gap: 1.191e+01, tolerance: 4.272e+00\n",
            "  model = cd_fast.enet_coordinate_descent(\n"
          ]
        },
        {
          "output_type": "execute_result",
          "data": {
            "text/plain": [
              "RuleFit(tree_generator=GradientBoostingRegressor(learning_rate=0.01,\n",
              "                                                 max_depth=20, max_leaf_nodes=3,\n",
              "                                                 n_estimators=579,\n",
              "                                                 random_state=578))"
            ],
            "text/html": [
              "<style>#sk-container-id-2 {color: black;background-color: white;}#sk-container-id-2 pre{padding: 0;}#sk-container-id-2 div.sk-toggleable {background-color: white;}#sk-container-id-2 label.sk-toggleable__label {cursor: pointer;display: block;width: 100%;margin-bottom: 0;padding: 0.3em;box-sizing: border-box;text-align: center;}#sk-container-id-2 label.sk-toggleable__label-arrow:before {content: \"▸\";float: left;margin-right: 0.25em;color: #696969;}#sk-container-id-2 label.sk-toggleable__label-arrow:hover:before {color: black;}#sk-container-id-2 div.sk-estimator:hover label.sk-toggleable__label-arrow:before {color: black;}#sk-container-id-2 div.sk-toggleable__content {max-height: 0;max-width: 0;overflow: hidden;text-align: left;background-color: #f0f8ff;}#sk-container-id-2 div.sk-toggleable__content pre {margin: 0.2em;color: black;border-radius: 0.25em;background-color: #f0f8ff;}#sk-container-id-2 input.sk-toggleable__control:checked~div.sk-toggleable__content {max-height: 200px;max-width: 100%;overflow: auto;}#sk-container-id-2 input.sk-toggleable__control:checked~label.sk-toggleable__label-arrow:before {content: \"▾\";}#sk-container-id-2 div.sk-estimator input.sk-toggleable__control:checked~label.sk-toggleable__label {background-color: #d4ebff;}#sk-container-id-2 div.sk-label input.sk-toggleable__control:checked~label.sk-toggleable__label {background-color: #d4ebff;}#sk-container-id-2 input.sk-hidden--visually {border: 0;clip: rect(1px 1px 1px 1px);clip: rect(1px, 1px, 1px, 1px);height: 1px;margin: -1px;overflow: hidden;padding: 0;position: absolute;width: 1px;}#sk-container-id-2 div.sk-estimator {font-family: monospace;background-color: #f0f8ff;border: 1px dotted black;border-radius: 0.25em;box-sizing: border-box;margin-bottom: 0.5em;}#sk-container-id-2 div.sk-estimator:hover {background-color: #d4ebff;}#sk-container-id-2 div.sk-parallel-item::after {content: \"\";width: 100%;border-bottom: 1px solid gray;flex-grow: 1;}#sk-container-id-2 div.sk-label:hover label.sk-toggleable__label {background-color: #d4ebff;}#sk-container-id-2 div.sk-serial::before {content: \"\";position: absolute;border-left: 1px solid gray;box-sizing: border-box;top: 0;bottom: 0;left: 50%;z-index: 0;}#sk-container-id-2 div.sk-serial {display: flex;flex-direction: column;align-items: center;background-color: white;padding-right: 0.2em;padding-left: 0.2em;position: relative;}#sk-container-id-2 div.sk-item {position: relative;z-index: 1;}#sk-container-id-2 div.sk-parallel {display: flex;align-items: stretch;justify-content: center;background-color: white;position: relative;}#sk-container-id-2 div.sk-item::before, #sk-container-id-2 div.sk-parallel-item::before {content: \"\";position: absolute;border-left: 1px solid gray;box-sizing: border-box;top: 0;bottom: 0;left: 50%;z-index: -1;}#sk-container-id-2 div.sk-parallel-item {display: flex;flex-direction: column;z-index: 1;position: relative;background-color: white;}#sk-container-id-2 div.sk-parallel-item:first-child::after {align-self: flex-end;width: 50%;}#sk-container-id-2 div.sk-parallel-item:last-child::after {align-self: flex-start;width: 50%;}#sk-container-id-2 div.sk-parallel-item:only-child::after {width: 0;}#sk-container-id-2 div.sk-dashed-wrapped {border: 1px dashed gray;margin: 0 0.4em 0.5em 0.4em;box-sizing: border-box;padding-bottom: 0.4em;background-color: white;}#sk-container-id-2 div.sk-label label {font-family: monospace;font-weight: bold;display: inline-block;line-height: 1.2em;}#sk-container-id-2 div.sk-label-container {text-align: center;}#sk-container-id-2 div.sk-container {/* jupyter's `normalize.less` sets `[hidden] { display: none; }` but bootstrap.min.css set `[hidden] { display: none !important; }` so we also need the `!important` here to be able to override the default hidden behavior on the sphinx rendered scikit-learn.org. See: https://github.com/scikit-learn/scikit-learn/issues/21755 */display: inline-block !important;position: relative;}#sk-container-id-2 div.sk-text-repr-fallback {display: none;}</style><div id=\"sk-container-id-2\" class=\"sk-top-container\"><div class=\"sk-text-repr-fallback\"><pre>RuleFit(tree_generator=GradientBoostingRegressor(learning_rate=0.01,\n",
              "                                                 max_depth=20, max_leaf_nodes=3,\n",
              "                                                 n_estimators=579,\n",
              "                                                 random_state=578))</pre><b>In a Jupyter environment, please rerun this cell to show the HTML representation or trust the notebook. <br />On GitHub, the HTML representation is unable to render, please try loading this page with nbviewer.org.</b></div><div class=\"sk-container\" hidden><div class=\"sk-item sk-dashed-wrapped\"><div class=\"sk-label-container\"><div class=\"sk-label sk-toggleable\"><input class=\"sk-toggleable__control sk-hidden--visually\" id=\"sk-estimator-id-4\" type=\"checkbox\" ><label for=\"sk-estimator-id-4\" class=\"sk-toggleable__label sk-toggleable__label-arrow\">RuleFit</label><div class=\"sk-toggleable__content\"><pre>RuleFit(tree_generator=GradientBoostingRegressor(learning_rate=0.01,\n",
              "                                                 max_depth=20, max_leaf_nodes=3,\n",
              "                                                 n_estimators=579,\n",
              "                                                 random_state=578))</pre></div></div></div><div class=\"sk-parallel\"><div class=\"sk-parallel-item\"><div class=\"sk-item\"><div class=\"sk-label-container\"><div class=\"sk-label sk-toggleable\"><input class=\"sk-toggleable__control sk-hidden--visually\" id=\"sk-estimator-id-5\" type=\"checkbox\" ><label for=\"sk-estimator-id-5\" class=\"sk-toggleable__label sk-toggleable__label-arrow\">tree_generator: GradientBoostingRegressor</label><div class=\"sk-toggleable__content\"><pre>GradientBoostingRegressor(learning_rate=0.01, max_depth=20, max_leaf_nodes=3,\n",
              "                          n_estimators=579, random_state=578)</pre></div></div></div><div class=\"sk-serial\"><div class=\"sk-item\"><div class=\"sk-estimator sk-toggleable\"><input class=\"sk-toggleable__control sk-hidden--visually\" id=\"sk-estimator-id-6\" type=\"checkbox\" ><label for=\"sk-estimator-id-6\" class=\"sk-toggleable__label sk-toggleable__label-arrow\">GradientBoostingRegressor</label><div class=\"sk-toggleable__content\"><pre>GradientBoostingRegressor(learning_rate=0.01, max_depth=20, max_leaf_nodes=3,\n",
              "                          n_estimators=579, random_state=578)</pre></div></div></div></div></div></div></div></div></div></div>"
            ]
          },
          "metadata": {},
          "execution_count": 6
        }
      ]
    },
    {
      "cell_type": "code",
      "source": [
        "rf.predict(X)"
      ],
      "metadata": {
        "id": "kkkPICDfGQU0",
        "outputId": "ece29480-f441-437f-df97-be2d5a0f13b4",
        "colab": {
          "base_uri": "https://localhost:8080/"
        }
      },
      "execution_count": 8,
      "outputs": [
        {
          "output_type": "execute_result",
          "data": {
            "text/plain": [
              "array([24.84525322, 21.79219054, 33.79334629, 33.3507348 , 34.48392686,\n",
              "       27.36634752, 21.4936276 , 21.46011902, 15.06990971, 18.36191622,\n",
              "       18.69329684, 19.05824824, 22.44553211, 19.2209587 , 18.26496264,\n",
              "       19.52549054, 21.27710598, 16.83997717, 19.29568326, 18.20163434,\n",
              "       14.46594732, 16.87230214, 17.27774152, 14.39646377, 16.08519968,\n",
              "       16.4330627 , 16.31723535, 16.29416589, 18.31457781, 20.64407444,\n",
              "       13.70753508, 17.28268677, 14.00804441, 16.23248276, 15.4639173 ,\n",
              "       19.6180256 , 20.21380616, 21.86556826, 21.47426804, 29.56741806,\n",
              "       34.19998883, 29.22231899, 25.89646458, 25.89809521, 23.15052032,\n",
              "       21.74848228, 21.3973243 , 18.41404529, 14.73062923, 19.34817873,\n",
              "       20.71575362, 21.70138229, 24.98326001, 22.6259006 , 17.81538053,\n",
              "       32.53036334, 21.94811158, 31.31474447, 23.89870741, 21.02288382,\n",
              "       18.77268449, 17.38056579, 22.34579253, 25.60002292, 31.58241969,\n",
              "       23.38983105, 19.25832335, 20.72374606, 19.21500152, 20.68740528,\n",
              "       24.19474993, 21.7398514 , 23.32976124, 24.19378537, 25.3131084 ,\n",
              "       23.12610037, 20.6360441 , 21.42701985, 19.97406017, 21.68977696,\n",
              "       27.33550121, 24.28633839, 23.98775995, 23.33335553, 23.64819882,\n",
              "       25.83752363, 20.77187492, 22.71059789, 26.28003919, 27.86906872,\n",
              "       20.9252937 , 20.57402888, 23.65647906, 25.29690845, 21.67724204,\n",
              "       25.91544372, 22.40009451, 39.20923209, 42.42734833, 31.91412158,\n",
              "       25.61239455, 26.50247205, 18.69992553, 20.20706182, 21.04826353,\n",
              "       18.58432632, 18.7680704 , 20.49194999, 20.72490493, 20.62906974,\n",
              "       22.54030784, 23.3336157 , 18.83987922, 19.6168798 , 21.89650785,\n",
              "       19.12841236, 21.90146743, 19.99791775, 19.80347375, 20.40424382,\n",
              "       22.47652031, 21.84486607, 20.09456704, 18.30970359, 19.98947087,\n",
              "       21.424575  , 16.5752228 , 15.05825251, 17.60374269, 15.05713886,\n",
              "       18.91029068, 18.91656657, 19.26182557, 16.27854433, 15.41688569,\n",
              "       17.33625824, 15.11257661, 17.64331476, 13.17709959, 16.82781434,\n",
              "       14.11672243, 12.74446478, 14.4081323 , 14.64441999, 14.76068463,\n",
              "       15.60632753, 16.69035358, 14.82200033, 14.88083345, 15.56546263,\n",
              "       20.07676516, 18.96167401, 18.10522023, 17.59980021, 17.28686043,\n",
              "       15.06832127, 14.70164089, 39.00885064, 25.45037454, 23.7762992 ,\n",
              "       27.12100364, 49.58443762, 49.91842897, 49.96689757, 21.57113995,\n",
              "       23.69220751, 49.02336965, 21.73944501, 23.50698467, 23.50115883,\n",
              "       20.76285707, 20.95316563, 20.17508264, 23.76732767, 22.69957259,\n",
              "       27.97297032, 21.91296271, 23.26700863, 27.88974324, 36.43608781,\n",
              "       41.60442675, 32.08875488, 37.33678413, 31.01326069, 25.78607187,\n",
              "       30.27376898, 49.34187081, 31.37013995, 30.45681873, 36.04322353,\n",
              "       32.80583919, 29.9535926 , 36.20543708, 31.038252  , 29.73631239,\n",
              "       49.19895589, 34.86698206, 30.21426448, 32.51288855, 31.57301261,\n",
              "       32.17556368, 23.18224818, 43.07053494, 49.40195206, 49.46021239,\n",
              "       22.84175223, 23.16808026, 19.62200815, 22.67526654, 18.66094071,\n",
              "       20.20082941, 18.93801183, 22.11602468, 25.13367688, 21.19772111,\n",
              "       24.67964132, 21.99757304, 28.52710349, 21.21843203, 23.76652479,\n",
              "       28.26446901, 20.93316702, 26.51038106, 26.0207716 , 46.27462476,\n",
              "       47.83386211, 41.14369108, 32.28023877, 44.96755434, 30.39868106,\n",
              "       21.65918062, 32.2723382 , 44.47122699, 44.6596987 , 27.70591629,\n",
              "       22.91330808, 25.71701283, 32.86868305, 25.31729777, 25.78384451,\n",
              "       23.53497746, 20.03370606, 21.59955315, 25.04070019, 18.03058534,\n",
              "       17.8725299 , 22.1281744 , 20.06819422, 22.42417789, 26.08672289,\n",
              "       24.7168624 , 26.34186587, 31.50298214, 41.56227844, 20.97748101,\n",
              "       20.08139847, 41.92348781, 51.3246807 , 36.24531012, 30.64824462,\n",
              "       35.3308502 , 41.98583978, 47.68027674, 32.47338774, 36.61336434,\n",
              "       23.47473314, 30.61565331, 48.57298462, 44.8539269 , 22.01099939,\n",
              "       21.42171961, 26.2306684 , 23.9537085 , 37.09156532, 33.27831024,\n",
              "       31.79403616, 34.59922798, 33.26911082, 26.62531795, 34.80214828,\n",
              "       45.44464006, 37.0171604 , 45.51374145, 49.46934296, 31.27372118,\n",
              "       21.45834181, 21.9842804 , 22.64422127, 21.99975087, 24.51238723,\n",
              "       30.98968912, 35.49386097, 27.44109303, 25.14942649, 22.19411515,\n",
              "       29.0914263 , 26.46243466, 19.27009024, 22.6379868 , 31.27805277,\n",
              "       26.43713622, 25.41187598, 25.6792347 , 33.65639207, 36.06738615,\n",
              "       29.44043094, 34.97070278, 30.52132784, 25.7623804 , 18.73870516,\n",
              "       20.29525552, 22.36689155, 17.832243  , 21.1570679 , 22.38157825,\n",
              "       18.42804686, 17.34431243, 17.97172618, 20.8479112 , 19.83890608,\n",
              "       23.65194104, 23.56180532, 21.35929514, 18.95764506, 24.14479923,\n",
              "       25.33081036, 24.43050808, 21.0692543 , 20.08560756, 23.74342112,\n",
              "       22.3316033 , 19.18958479, 20.71590544, 22.13387263, 22.11579991,\n",
              "       19.75796411, 19.69357962, 17.81574486, 20.95224379, 19.86620826,\n",
              "       19.04618139, 32.50405556, 20.71399021, 25.76826529, 29.63439522,\n",
              "       18.06552908, 17.51748714, 22.21298832, 25.71208382, 25.21670742,\n",
              "       21.36524273, 23.9003353 , 20.3234882 , 31.6923095 , 20.16101803,\n",
              "       21.28159103, 16.77526242, 20.10201989, 22.75996047, 20.23096231,\n",
              "       23.2346088 , 19.85074477, 21.11849079, 18.01984124, 23.15521244,\n",
              "       25.16586487, 19.02146839, 22.91986352, 48.73556694, 51.01006506,\n",
              "       50.00137135, 47.69270261, 48.50992548, 12.96842616, 15.00750642,\n",
              "       16.00904397, 12.2362243 , 12.11115458,  9.63192162, 10.1363432 ,\n",
              "       12.1885549 , 10.13540616, 12.09767081, 11.8099176 ,  8.23048847,\n",
              "        8.61622023,  9.53919711,  8.29856012,  8.90388081, 12.10067973,\n",
              "       13.94312689, 18.67468128, 10.68341124, 14.63950304, 11.54814651,\n",
              "       13.51818365, 12.46629053, 10.77247425,  5.54854684,  9.18847436,\n",
              "        8.14335697, 10.50586756, 11.95786331,  9.21586103,  7.85719001,\n",
              "        7.56740635, 14.96997076, 27.90093681, 16.96478615, 25.73795898,\n",
              "       17.30838172, 17.67749688, 16.3598425 , 15.44221221,  5.63944213,\n",
              "        7.82348695,  8.35257744,  8.57645812,  5.88708241,  9.72680339,\n",
              "       15.06225747, 14.88698364, 19.23199537, 10.88471536, 13.86419806,\n",
              "        7.36251649, 13.92660535, 12.32394488,  9.73235171,  8.9139178 ,\n",
              "       14.68802771, 14.70995818, 17.70397265, 15.5543334 , 11.95629011,\n",
              "       13.20899983, 11.00622876,  8.609184  ,  8.54653298, 12.58642015,\n",
              "       10.05778345, 14.5958177 , 17.39311031, 14.17275236, 10.63884672,\n",
              "        9.76525135, 15.525437  , 14.91865497, 15.66209683, 14.20792985,\n",
              "       12.57669161, 17.69665527, 18.19335622, 17.79921558, 12.45470535,\n",
              "       15.57235127, 14.81545577, 12.55123088, 15.86687445, 18.2149272 ,\n",
              "       17.97510884, 19.06553179, 19.09995847, 21.1399687 , 19.85438697,\n",
              "       20.69431303, 14.97431703, 16.70261154, 16.09176543, 18.47932058,\n",
              "       20.47285914, 20.59432683, 21.36554127, 27.37915558, 15.7090345 ,\n",
              "       15.5701768 , 19.10610096, 11.29569551, 15.82099724, 21.0442416 ,\n",
              "       21.04254106, 24.45888693, 27.51930274, 21.10734762, 20.77629083,\n",
              "       22.43431611, 19.78627868, 20.82352874, 13.84936013, 10.68863141,\n",
              "        8.97949083, 13.55883309, 18.32892453, 20.49119463, 21.00496824,\n",
              "       21.05050725, 17.86835396, 19.581964  , 19.97328934, 19.28069484,\n",
              "       19.29622139, 21.48759987, 18.24681008, 24.55084586, 22.44591219,\n",
              "       17.04272463])"
            ]
          },
          "metadata": {},
          "execution_count": 8
        }
      ]
    },
    {
      "cell_type": "code",
      "source": [
        "rules = rf.get_rules()\n",
        "rules = rules[rules.coef != 0].sort_values(\"support\", ascending=False)\n",
        "print(rules)"
      ],
      "metadata": {
        "id": "i7l5outaGQ47",
        "outputId": "2af725bb-1873-4952-8db3-d1000c704e34",
        "colab": {
          "base_uri": "https://localhost:8080/"
        }
      },
      "execution_count": 9,
      "outputs": [
        {
          "output_type": "stream",
          "name": "stdout",
          "text": [
            "                                                  rule    type      coef  \\\n",
            "6                                                  age  linear -0.045068   \n",
            "10                                             ptratio  linear  0.300844   \n",
            "11                                               black  linear  0.000147   \n",
            "7                                                  dis  linear -0.315272   \n",
            "9                                                  tax  linear  0.000006   \n",
            "..                                                 ...     ...       ...   \n",
            "575  ptratio > 15.25 & tax > 222.5 & rm <= 4.753999...    rule  2.068024   \n",
            "721  dis <= 2.0642999410629272 & tax > 222.5 & lsta...    rule -0.686256   \n",
            "442  rm <= 7.83650016784668 & lstat <= 21.489999771...    rule -1.229255   \n",
            "761  black > 105.23999786376953 & ptratio <= 20.949...    rule -1.456458   \n",
            "172  rm <= 6.955499887466431 & rm > 6.8380000591278...    rule  0.299451   \n",
            "\n",
            "      support  importance  \n",
            "6    1.000000    1.260560  \n",
            "10   1.000000    0.647410  \n",
            "11   1.000000    0.013210  \n",
            "7    1.000000    0.638708  \n",
            "9    1.000000    0.000988  \n",
            "..        ...         ...  \n",
            "575  0.005929    0.158763  \n",
            "721  0.005929    0.052684  \n",
            "442  0.005929    0.094370  \n",
            "761  0.003953    0.091386  \n",
            "172  0.003953    0.018789  \n",
            "\n",
            "[157 rows x 5 columns]\n"
          ]
        }
      ]
    }
  ],
  "metadata": {
    "colab": {
      "name": "scratchpad",
      "provenance": [],
      "include_colab_link": true
    },
    "kernelspec": {
      "display_name": "Python 3",
      "name": "python3"
    }
  },
  "nbformat": 4,
  "nbformat_minor": 0
}